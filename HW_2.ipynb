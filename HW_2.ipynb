{
 "cells": [
  {
   "cell_type": "markdown",
   "metadata": {},
   "source": [
    "# Задача №1"
   ]
  },
  {
   "cell_type": "code",
   "execution_count": 111,
   "metadata": {},
   "outputs": [
    {
     "name": "stdout",
     "output_type": "stream",
     "text": [
      "[[0. 0. 0. ... 0. 0. 0.]\n",
      " [0. 0. 0. ... 0. 0. 0.]\n",
      " [0. 0. 0. ... 0. 0. 0.]\n",
      " ...\n",
      " [0. 0. 0. ... 0. 0. 0.]\n",
      " [0. 0. 0. ... 0. 0. 0.]\n",
      " [0. 0. 0. ... 0. 0. 0.]]\n",
      "[0.0, 0.9527544408738466, 0.8644738145642124, 0.8951715163278082, 0.7770887149698589, 0.9402385695332803, 0.7327387580875756, 0.9258750683338899, 0.8842724875284311, 0.9055088817476932, 0.8328165362273942, 0.8804771390665607, 0.8396432548525454, 0.8703592552895671, 0.8740118423302576, 0.9442721787424647, 0.8406361854220809, 0.956644501523794, 0.9442721787424647, 0.8885443574849294, 0.8427572744917122, 0.8250364469440588]\n"
     ]
    }
   ],
   "source": [
    "import re\n",
    "import numpy as np\n",
    "from scipy.spatial import distance\n",
    "\n",
    "file = open('2\\sentences.txt', 'r')\n",
    "data_line = file.read().splitlines()\n",
    "data_line = list(map(str.lower, data_line))\n",
    "diction = list()\n",
    "for i in range(0,(len(data_line))):\n",
    "    data_line[i] = list(re.split('[^a-z]', data_line[i]))\n",
    "    data_line[i] = [buf_i for buf_i in data_line[i] if buf_i]\n",
    "    for word in data_line[i]:\n",
    "        if word not in diction:\n",
    "            diction.append(word) # создание 'типа' словаря\n",
    "            \n",
    "arr = np.zeros((len(data_line), len(diction))) # заполнение массива\n",
    "print (arr)\n",
    "for i in range(0,(len(data_line))):\n",
    "    for j in range(0,(len(diction))):\n",
    "        k = 0\n",
    "        for data_line_i in data_line[i]:\n",
    "            if data_line_i == diction[j]:\n",
    "                k += 1\n",
    "        arr[i, j] = k\n",
    "\n",
    "\n",
    "#print (arr[12])\n",
    "#print (diction, '\\n', len(diction))\n",
    "#print (dict([data_line[0]],10))\n",
    "# for i in data_line:\n",
    "#      print (i,)\n",
    "\n",
    "res = list()\n",
    "for i in range(0,(len(data_line))):\n",
    "    res.append(distance.cosine(arr[0], arr[i]))\n",
    "print (res)"
   ]
  },
  {
   "cell_type": "code",
   "execution_count": 4,
   "metadata": {},
   "outputs": [
    {
     "name": "stdout",
     "output_type": "stream",
     "text": [
      "<_io.TextIOWrapper name='2\\\\sentences.txt' mode='r' encoding='cp1251'>\n"
     ]
    }
   ],
   "source": [
    "print (a)"
   ]
  },
  {
   "cell_type": "code",
   "execution_count": 112,
   "metadata": {},
   "outputs": [
    {
     "name": "stdout",
     "output_type": "stream",
     "text": [
      "[{'index': 1, 'distance': 0.9527544408738466}, {'index': 2, 'distance': 0.8644738145642124}, {'index': 3, 'distance': 0.8951715163278082}, {'index': 4, 'distance': 0.7770887149698589}, {'index': 5, 'distance': 0.9402385695332803}, {'index': 6, 'distance': 0.7327387580875756}, {'index': 7, 'distance': 0.9258750683338899}, {'index': 8, 'distance': 0.884272487528431}, {'index': 9, 'distance': 0.9055088817476932}, {'index': 10, 'distance': 0.8328165362273942}, {'index': 11, 'distance': 0.8804771390665607}, {'index': 12, 'distance': 0.8396432548525454}, {'index': 13, 'distance': 0.8703592552895671}, {'index': 14, 'distance': 0.8740118423302576}, {'index': 15, 'distance': 0.9442721787424647}, {'index': 16, 'distance': 0.8406361854220809}, {'index': 17, 'distance': 0.956644501523794}, {'index': 18, 'distance': 0.9442721787424647}, {'index': 19, 'distance': 0.8885443574849294}, {'index': 20, 'distance': 0.8427572744917122}, {'index': 21, 'distance': 0.8250364469440586}]\n",
      "The 1st closest sentence is a sentence #6 with a cosine distance of 0.73.\n",
      "The 2nd closest sentence is a sentence #4 with a cosine distance of 0.78.\n"
     ]
    }
   ],
   "source": [
    "from numpy import zeros, dot, savetxt\n",
    "from numpy.linalg import norm\n",
    " \n",
    "# Definition of a cosine distance function\n",
    "# according to scipy.spatial.distance.cosine function's description \n",
    "def cosine_distance(u, v):\n",
    "    return 1.0 - (dot(u, v) / (norm(u) * norm(v)))\n",
    " \n",
    "if __name__ == \"__main__\":\n",
    "    with open(\"2\\sentences.txt\") as f:\n",
    "        # Let's determine a number of lines in a text file\n",
    "        lines = sum(1 for _ in f)\n",
    "        f.seek(0)\n",
    "        \n",
    "        import re\n",
    "        words = {}\n",
    "        # The 'lcount' variable controlls the index of a current line in the text file,\n",
    "        # when the 'wcount' variable controlls the index of a unique word.\n",
    "        lcount, wcount = 0, 0\n",
    "        for line in f:\n",
    "            # Here we compile a pattern object, read a line from the text file,\n",
    "            # and split it into tokens (words).\n",
    "            p = re.compile(r\"[^a-z]+\")\n",
    "            tokens = p.split(line.lower())\n",
    "            # In this case we will have only one empty token at the end of a list.\n",
    "            # Let's remove it.\n",
    "            tokens.pop()\n",
    "            for token in tokens:\n",
    "                # If a token is not presented in the dictionary yet then we add it.\n",
    "                # The value of the 'occurrences' entry is a list object where every item represents\n",
    "                # a specific line in the text file. The first item represents the first line, the second item\n",
    "                # represents the sencond line etc. \n",
    "                if token not in words:\n",
    "                    words[token] = {\n",
    "                        \"index\": wcount,\n",
    "                        \"occurrences\": [0] * lines\n",
    "                    }\n",
    "                    wcount += 1\n",
    "                # If we find the same token in the same list of tokens (in the same line)\n",
    "                # then we just ignore it.\n",
    "                elif words[token][\"occurrences\"][lcount] != 0:\n",
    "                    continue\n",
    "                \n",
    "                # Here we register how many times a token occured in a list of tokens (in a line)    \n",
    "                words[token][\"occurrences\"][lcount] = tokens.count(token)    \n",
    "            lcount += 1\n",
    "        #print (words)\n",
    "        # Here we create a numpy-array, filled with zeros\n",
    "        arr = zeros((lines, len(words)))\n",
    "        \n",
    "        # Now for every word in the dictionary we take a number of its occurrences\n",
    "        # in every line and put it to the array.  \n",
    "        for word in words:\n",
    "            i, j = 0, words[word][\"index\"]\n",
    "            for occ in words[word][\"occurrences\"]:\n",
    "                arr[i, j] = occ\n",
    "                i += 1\n",
    "        #print (arr[12])\n",
    "        #savetxt(\"foo.csv\", arr, delimiter=\",\")\n",
    "        \n",
    "        # Finally we calculate a cosine distance between the first sentence (line) and\n",
    "        # other sentences in the text file\n",
    "        dist = [] \n",
    "        u = arr[0,] \n",
    "        for i in range(1, lines):\n",
    "            v = arr[i,]\n",
    "            dist.append({\"index\": i, \"distance\": cosine_distance(u, v)})    \n",
    "        print (dist)\n",
    "        dist.sort(key=lambda x: x[\"distance\"])\n",
    "        print(\"The 1st closest sentence is a sentence #%d with a cosine distance of %.2f.\\n\"\\\n",
    "        \"The 2nd closest sentence is a sentence #%d with a cosine distance of %.2f.\" % (\n",
    "            dist[0][\"index\"],\n",
    "            dist[0][\"distance\"],\n",
    "            dist[1][\"index\"],\n",
    "            dist[1][\"distance\"]\n",
    "        ))"
   ]
  },
  {
   "cell_type": "markdown",
   "metadata": {},
   "source": [
    "# Задача №2"
   ]
  },
  {
   "cell_type": "code",
   "execution_count": 137,
   "metadata": {},
   "outputs": [
    {
     "name": "stdout",
     "output_type": "stream",
     "text": [
      "[3.25221687 1.74684595 2.50541641 0.63522142]\n",
      "[ 4.36264154 -1.29552587  0.19333685 -0.00823565]\n"
     ]
    }
   ],
   "source": [
    "x = np.array([[1**0, 1**1, 1**2, 1**3], [4**0, 4**1, 4**2, 4**3], [10**0, 10**1, 10**2, 10**3], [15**0, 15**1, 15**2, 15**3]])\n",
    "\n",
    "import math\n",
    "import scipy\n",
    "s_x = list(map(float, [1, 4, 10, 15])) \n",
    "s_x = [(math.sin(x/5.)*math.exp(x/10.)+5.*math.exp(-x/2.)) for x in s_x]\n",
    "# f = np.array([math.sin(x/5.)*math.exp(x/10.)+5.*math.exp(-x/2.)\n",
    "f = np.array(s_x)\n",
    "print (f)\n",
    "w = scipy.linalg.solve(x, f)\n",
    "print (w)"
   ]
  },
  {
   "cell_type": "code",
   "execution_count": 140,
   "metadata": {},
   "outputs": [
    {
     "name": "stdout",
     "output_type": "stream",
     "text": [
      "[ 3.43914511 -0.18692825]\n",
      "[ 3.32512949 -0.06531159 -0.00760104]\n",
      "[ 4.36264154 -1.29552587  0.19333685 -0.00823565]\n"
     ]
    },
    {
     "data": {
      "image/png": "[encoded data removed]",
      "text/plain": [
       "<Figure size 432x288 with 1 Axes>"
      ]
     },
     "metadata": {
      "needs_background": "light"
     },
     "output_type": "display_data"
    }
   ],
   "source": [
    "import math\n",
    "import numpy as np\n",
    "import matplotlib.pyplot as plt\n",
    " \n",
    "from itertools import cycle\n",
    "from functools import partial\n",
    "from mpmath import mp\n",
    " \n",
    "       \n",
    "# mp.dps = 25\n",
    "# mp.pretty = False\n",
    " \n",
    " \n",
    " \n",
    "def f(x, ctx=math):\n",
    "    return ctx.sin(x / 5) * ctx.exp(x / 10) + 5 * ctx.exp(-x / 2)\n",
    " \n",
    " \n",
    "def approx_f(x, ws):\n",
    "    return sum(x**i * w for i, w in enumerate(ws))\n",
    " \n",
    " \n",
    "def a_matrix(xs, *, matrix=lambda x: x):\n",
    "    return matrix([[x**n for n in range(len(xs))] for x in xs])\n",
    " \n",
    "    \n",
    "def b_matrix(xs, f, *, matrix=lambda x: x):\n",
    "    return matrix([f(x) for x in xs])\n",
    " \n",
    " \n",
    "def plot(fs, xlim, points=200):\n",
    "    a, b = xlim\n",
    "    colors = cycle(['b', 'r', 'g', 'm', 'k'])\n",
    "    fig, ax = plt.subplots()\n",
    "    xs = np.arange(a, b, (b-a)/points)\n",
    "    for f, clr in zip(fs, colors):\n",
    "        ys = [f(x) for x in xs]\n",
    "        ax.plot(xs, ys, linewidth=2)\n",
    "    ax.set_xlabel('x')\n",
    "    ax.set_ylabel('f(x)')\n",
    "    ax.grid(True)\n",
    "    plt.show()\n",
    "   \n",
    " \n",
    " \n",
    "xpoints = [\n",
    "    (1, 15),\n",
    "    (1, 8, 15),\n",
    "    (1, 4, 10, 15),\n",
    "]\n",
    " \n",
    "fs = [f]\n",
    "for xs in xpoints:\n",
    "    a = a_matrix(xs)\n",
    "    b = b_matrix(xs, f)\n",
    "    # ws = mp.lu_solve(a, b)\n",
    "    # ws = scipy.linalg.solve(a, b)\n",
    "    ws = np.linalg.solve(a,b)\n",
    "    print (ws)\n",
    "    tf = partial(approx_f, ws=ws)\n",
    "    fs.append(tf)\n",
    " \n",
    "# mp.plot(fs, (0, 16))\n",
    "plot(fs, (0, 16))"
   ]
  },
  {
   "cell_type": "markdown",
   "metadata": {},
   "source": [
    "## Задача 3"
   ]
  },
  {
   "cell_type": "code",
   "execution_count": 45,
   "metadata": {},
   "outputs": [
    {
     "data": {
      "image/png": "[encoded data removed]",
      "text/plain": [
       "<Figure size 432x288 with 1 Axes>"
      ]
     },
     "metadata": {
      "needs_background": "light"
     },
     "output_type": "display_data"
    },
    {
     "name": "stdout",
     "output_type": "stream",
     "text": [
      "Wall time: 2.95 ms\n",
      "      fun: -11.503580766270698\n",
      " hess_inv: array([[49.07083863]])\n",
      "      jac: array([-0.6282866])\n",
      "  message: 'Desired error not necessarily achieved due to precision loss.'\n",
      "     nfev: 63\n",
      "      nit: 1\n",
      "     njev: 19\n",
      "   status: 2\n",
      "  success: False\n",
      "        x: array([24.67766111])\n",
      "[4.13627628] 1.7452682903447336 начиная с точки 2\n",
      "[25.88019321] -11.898894665981313 начиная с точки 30\n"
     ]
    }
   ],
   "source": [
    "from scipy import optimize\n",
    "import math\n",
    "import numpy as np\n",
    "import matplotlib.pyplot as plt\n",
    "\n",
    "def f(x):   # The rosenbrock function\n",
    "    return (math.sin(x/5.)*math.exp(x/10.)+5.*math.exp(-x/2.))\n",
    "\n",
    "x = np.arange(1,30,0.1)\n",
    "y = np.array(list(map(f, x)))\n",
    "\n",
    "#print (x, y)\n",
    "plt.plot(x, y)\n",
    "plt.show()\n",
    "\n",
    "%time minim = optimize.minimize(f, 15) # минимизация функции 15 - точка вокруг которой начинается поиск\n",
    "print (minim)\n",
    "\n",
    "minim_2 = optimize.minimize(f, 2, method='BFGS')\n",
    "print (minim_2.x, f(minim_2.x), 'начиная с точки 2')\n",
    "\n",
    "minim_3 = optimize.minimize(f, 30, method='BFGS')\n",
    "print (minim_3.x, f(minim_3.x), 'начиная с точки 30')"
   ]
  },
  {
   "cell_type": "code",
   "execution_count": 44,
   "metadata": {},
   "outputs": [
    {
     "data": {
      "image/png": "[encoded data removed]",
      "text/plain": [
       "<Figure size 432x288 with 1 Axes>"
      ]
     },
     "metadata": {
      "needs_background": "light"
     },
     "output_type": "display_data"
    },
    {
     "name": "stdout",
     "output_type": "stream",
     "text": [
      "Wall time: 5.99 ms\n",
      "[25.88019279] -11.898894665981302\n"
     ]
    }
   ],
   "source": [
    "from scipy import optimize\n",
    "import math\n",
    "import numpy as np\n",
    "import matplotlib.pyplot as plt\n",
    "\n",
    "def f(x):   # The rosenbrock function\n",
    "    return (math.sin(x/5.)*math.exp(x/10.)+5.*math.exp(-x/2.))\n",
    "\n",
    "x = np.arange(1,30,0.1)\n",
    "y = np.array(list(map(f, x)))\n",
    "\n",
    "#print (x, y)\n",
    "plt.plot(x, y)\n",
    "plt.show()\n",
    "\n",
    "%time minim = optimize.differential_evolution(f, [(1, 30)]) # конструкция [()] - ваще важна (вообще это список в котором типлы типы переменных)\n",
    "print (minim.x , minim.fun)\n"
   ]
  },
  {
   "cell_type": "code",
   "execution_count": 51,
   "metadata": {},
   "outputs": [
    {
     "data": {
      "image/png": "[encoded data removed]",
      "text/plain": [
       "<Figure size 432x288 with 1 Axes>"
      ]
     },
     "metadata": {
      "needs_background": "light"
     },
     "output_type": "display_data"
    },
    {
     "name": "stdout",
     "output_type": "stream",
     "text": [
      "Wall time: 999 µs\n",
      "[25.88019321] -11.898894665981313\n",
      "Wall time: 5.98 ms\n",
      "[24.55326704] -11.0\n"
     ]
    }
   ],
   "source": [
    "from scipy import optimize\n",
    "import math\n",
    "import numpy as np\n",
    "import matplotlib.pyplot as plt\n",
    "\n",
    "def f(x):   # The rosenbrock function\n",
    "    return (math.sin(x/5.)*math.exp(x/10.)+5.*math.exp(-x/2.))\n",
    "\n",
    "def h(x):\n",
    "    return (int(f(x)))\n",
    "\n",
    "x = np.arange(1,30,0.1)\n",
    "y = np.array(list(map(h, x)))\n",
    "\n",
    "#print (x, y)\n",
    "plt.plot(x, y)\n",
    "plt.show()\n",
    "\n",
    "%time minim = optimize.minimize(f, 30, method='BFGS')\n",
    "print (minim.x , minim.fun)\n",
    "\n",
    "%time minim_2 = optimize.differential_evolution(h, [(1, 30)]) # конструкция [()] - ваще важна (вообще это список в котором типлы типы переменных)\n",
    "print (minim_2.x , minim_2.fun)"
   ]
  },
  {
   "cell_type": "markdown",
   "metadata": {},
   "source": [
    "# Финальная домашка"
   ]
  },
  {
   "cell_type": "code",
   "execution_count": 103,
   "metadata": {},
   "outputs": [
    {
     "name": "stderr",
     "output_type": "stream",
     "text": [
      "C:\\ProgramData\\Anaconda3\\lib\\site-packages\\ipykernel_launcher.py:11: MatplotlibDeprecationWarning: \n",
      "The 'normed' kwarg was deprecated in Matplotlib 2.1 and will be removed in 3.1. Use 'density' instead.\n",
      "  # This is added back by InteractiveShellApp.init_path()\n"
     ]
    },
    {
     "data": {
      "image/png": "[encoded data removed]",
      "text/plain": [
       "<Figure size 432x288 with 1 Axes>"
      ]
     },
     "metadata": {
      "needs_background": "light"
     },
     "output_type": "display_data"
    }
   ],
   "source": [
    "import numpy as np\n",
    "import matplotlib.pyplot as plt\n",
    "from scipy.stats import laplace # распределение Лапласа\n",
    "\n",
    "r = laplace.rvs(size=1000) # генерация распределения Лапласа\n",
    "fig, ax = plt.subplots(1)\n",
    "\n",
    "x = np.linspace(laplace.ppf(0.01), laplace.ppf(0.99), 100) # построение теоретического значения распределния\n",
    "ax.plot(x, laplace.pdf(x), 'g-', lw=2, label='teor')\n",
    "\n",
    "ax.hist(r, bins=100, normed=True, alpha=0.6, label='stat')\n",
    "ax.legend()\n",
    "ax.set_ylabel('$f(x)$')\n",
    "ax.set_xlabel('$x$')\n",
    "plt.show()"
   ]
  },
  {
   "cell_type": "code",
   "execution_count": 104,
   "metadata": {},
   "outputs": [
    {
     "name": "stdout",
     "output_type": "stream",
     "text": [
      "0.03214371062267217\n"
     ]
    }
   ],
   "source": [
    "import numpy as np\n",
    "print (r.mean()) # определение среднего значения для нашей статы"
   ]
  },
  {
   "cell_type": "code",
   "execution_count": 113,
   "metadata": {},
   "outputs": [
    {
     "name": "stderr",
     "output_type": "stream",
     "text": [
      "C:\\ProgramData\\Anaconda3\\lib\\site-packages\\ipykernel_launcher.py:17: MatplotlibDeprecationWarning: \n",
      "The 'normed' kwarg was deprecated in Matplotlib 2.1 and will be removed in 3.1. Use 'density' instead.\n"
     ]
    },
    {
     "data": {
      "image/png": "[encoded data removed]",
      "text/plain": [
       "<Figure size 432x288 with 1 Axes>"
      ]
     },
     "metadata": {
      "needs_background": "light"
     },
     "output_type": "display_data"
    },
    {
     "name": "stdout",
     "output_type": "stream",
     "text": [
      "mean -  0    sigma -  1.4142135623730951    se -  0.2\n"
     ]
    }
   ],
   "source": [
    "# объем выборки \n",
    "\n",
    "from scipy import stats\n",
    "import math\n",
    "\n",
    "mean = [] # выборка из объема выборки элементов создается 1000 раз\n",
    "size_v = 50 # число раз по 1000\n",
    "for i in range(1000):\n",
    "    s = laplace.rvs(size = size_v)\n",
    "    mean.append(s.mean())\n",
    "    \n",
    "se = math.sqrt(2.)/math.sqrt(size_v) # взято с википедии (se = sd/n^(1/2)), sd = sqrt(dispers)\n",
    "\n",
    "fig, ax = plt.subplots(1)\n",
    "x = np.linspace(stats.norm(0,se).ppf(0.001), stats.norm(0,se).ppf(0.999), 100) # построение теоретического нормального распределния\n",
    "ax.plot(x, stats.norm(0,se).pdf(x), 'r-', lw=2, label='teor_norm')\n",
    "ax.hist(mean, bins=100, normed=True, alpha=0.6, label='stat') # построение гистаграммы\n",
    "ax.legend()\n",
    "ax.set_ylabel('$f(x)$')\n",
    "ax.set_xlabel('$x$')\n",
    "plt.show()\n",
    "\n",
    "print ('mean - ', 0, '   sigma - ', math.sqrt(2),'   se - ', se, ) # вывод значений для нормального распределения"
   ]
  },
  {
   "cell_type": "code",
   "execution_count": null,
   "metadata": {},
   "outputs": [],
   "source": []
  }
 ],
 "metadata": {
  "kernelspec": {
   "display_name": "Python 3",
   "language": "python",
   "name": "python3"
  },
  "language_info": {
   "codemirror_mode": {
    "name": "ipython",
    "version": 3
   },
   "file_extension": ".py",
   "mimetype": "text/x-python",
   "name": "python",
   "nbconvert_exporter": "python",
   "pygments_lexer": "ipython3",
   "version": "3.7.4"
  }
 },
 "nbformat": 4,
 "nbformat_minor": 4
}
